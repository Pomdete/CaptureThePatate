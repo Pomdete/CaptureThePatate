{
 "cells": [
  {
   "cell_type": "code",
   "execution_count": 2,
   "id": "a120ab66",
   "metadata": {},
   "outputs": [],
   "source": [
    "import sys\n",
    "import os\n",
    "\n",
    "sys.path.insert(0, os.path.abspath('..'))"
   ]
  },
  {
   "cell_type": "code",
   "execution_count": 3,
   "id": "e8eaea66ebe827d9",
   "metadata": {
    "collapsed": false
   },
   "outputs": [
    {
     "name": "stderr",
     "output_type": "stream",
     "text": [
      "2024-04-26 10:44:09.820197: I external/local_tsl/tsl/cuda/cudart_stub.cc:32] Could not find cuda drivers on your machine, GPU will not be used.\n",
      "2024-04-26 10:44:10.006209: I external/local_tsl/tsl/cuda/cudart_stub.cc:32] Could not find cuda drivers on your machine, GPU will not be used.\n",
      "2024-04-26 10:44:10.684196: I tensorflow/core/platform/cpu_feature_guard.cc:210] This TensorFlow binary is optimized to use available CPU instructions in performance-critical operations.\n",
      "To enable the following instructions: AVX2 FMA, in other operations, rebuild TensorFlow with the appropriate compiler flags.\n",
      "2024-04-26 10:44:12.043217: W tensorflow/compiler/tf2tensorrt/utils/py_utils.cc:38] TF-TRT Warning: Could not find TensorRT\n"
     ]
    }
   ],
   "source": [
    "from fl.preprocessing import load_mnist, data_to_client\n",
    "from fl.model import NN\n",
    "from fl.utils import plot_train_and_test, weights_to_json\n",
    "from fl.federated_learning import federated"
   ]
  },
  {
   "cell_type": "markdown",
   "id": "4c73d758496df2d5",
   "metadata": {
    "collapsed": false
   },
   "source": [
    "# Challenge 2 : Du poison [2/2]\n",
    "\n",
    "![du_poison_2.jpg](https://i.imgflip.com/8nfix9.jpg)\n",
    "\n",
    "Cette fois, une défense a été mise en place. Il s'agit d'éviter qu'un client ait trop d'influence en forçant une variation maximale pour les poids. Mais *est-ce suffisant ?* "
   ]
  },
  {
   "cell_type": "markdown",
   "id": "1cf474a928ebb616",
   "metadata": {
    "collapsed": false
   },
   "source": [
    "## Récupération du drapeau \n",
    "\n",
    "Comme pour le premier challenge, il faut envoyer ses poids à l'API. "
   ]
  },
  {
   "cell_type": "code",
   "execution_count": 6,
   "id": "a74273bf",
   "metadata": {},
   "outputs": [],
   "source": [
    "epochs = 5\n",
    "epochs_fl = 1\n",
    "nb_clients = 5\n",
    "\n",
    "x_train, y_train, x_test, y_test = load_mnist()\n",
    "x_clients, y_clients = data_to_client(x_train, y_train, nb_clients=nb_clients)\n"
   ]
  },
  {
   "cell_type": "code",
   "execution_count": 7,
   "id": "ece4f9ad",
   "metadata": {},
   "outputs": [],
   "source": [
    "# randomize y_clients and y_test\n",
    "import numpy as np\n",
    "np.random.shuffle(y_clients)\n",
    "np.random.shuffle(y_test)"
   ]
  },
  {
   "cell_type": "code",
   "execution_count": 8,
   "id": "9cc29d3f",
   "metadata": {},
   "outputs": [
    {
     "name": "stdout",
     "output_type": "stream",
     "text": [
      "Federated learning iteration: 1\n",
      "\u001b[1m63/63\u001b[0m \u001b[32m━━━━━━━━━━━━━━━━━━━━\u001b[0m\u001b[37m\u001b[0m \u001b[1m0s\u001b[0m 3ms/step\n",
      "\u001b[1m63/63\u001b[0m \u001b[32m━━━━━━━━━━━━━━━━━━━━\u001b[0m\u001b[37m\u001b[0m \u001b[1m0s\u001b[0m 3ms/step\n",
      "\u001b[1m63/63\u001b[0m \u001b[32m━━━━━━━━━━━━━━━━━━━━\u001b[0m\u001b[37m\u001b[0m \u001b[1m0s\u001b[0m 3ms/step\n",
      "\u001b[1m63/63\u001b[0m \u001b[32m━━━━━━━━━━━━━━━━━━━━\u001b[0m\u001b[37m\u001b[0m \u001b[1m0s\u001b[0m 3ms/step\n",
      "\u001b[1m63/63\u001b[0m \u001b[32m━━━━━━━━━━━━━━━━━━━━\u001b[0m\u001b[37m\u001b[0m \u001b[1m0s\u001b[0m 3ms/step\n",
      "\u001b[1m63/63\u001b[0m \u001b[32m━━━━━━━━━━━━━━━━━━━━\u001b[0m\u001b[37m\u001b[0m \u001b[1m0s\u001b[0m 3ms/step\n",
      "Federated Accuracy: 0.095\n",
      "Federated learning iteration: 2\n",
      "\u001b[1m63/63\u001b[0m \u001b[32m━━━━━━━━━━━━━━━━━━━━\u001b[0m\u001b[37m\u001b[0m \u001b[1m0s\u001b[0m 3ms/step\n",
      "\u001b[1m63/63\u001b[0m \u001b[32m━━━━━━━━━━━━━━━━━━━━\u001b[0m\u001b[37m\u001b[0m \u001b[1m0s\u001b[0m 3ms/step\n",
      "\u001b[1m63/63\u001b[0m \u001b[32m━━━━━━━━━━━━━━━━━━━━\u001b[0m\u001b[37m\u001b[0m \u001b[1m0s\u001b[0m 3ms/step\n",
      "\u001b[1m63/63\u001b[0m \u001b[32m━━━━━━━━━━━━━━━━━━━━\u001b[0m\u001b[37m\u001b[0m \u001b[1m0s\u001b[0m 3ms/step\n",
      "\u001b[1m63/63\u001b[0m \u001b[32m━━━━━━━━━━━━━━━━━━━━\u001b[0m\u001b[37m\u001b[0m \u001b[1m0s\u001b[0m 3ms/step\n",
      "\u001b[1m63/63\u001b[0m \u001b[32m━━━━━━━━━━━━━━━━━━━━\u001b[0m\u001b[37m\u001b[0m \u001b[1m0s\u001b[0m 2ms/step\n",
      "Federated Accuracy: 0.091\n",
      "Federated learning iteration: 3\n",
      "\u001b[1m63/63\u001b[0m \u001b[32m━━━━━━━━━━━━━━━━━━━━\u001b[0m\u001b[37m\u001b[0m \u001b[1m0s\u001b[0m 3ms/step\n",
      "\u001b[1m63/63\u001b[0m \u001b[32m━━━━━━━━━━━━━━━━━━━━\u001b[0m\u001b[37m\u001b[0m \u001b[1m0s\u001b[0m 3ms/step\n",
      "\u001b[1m63/63\u001b[0m \u001b[32m━━━━━━━━━━━━━━━━━━━━\u001b[0m\u001b[37m\u001b[0m \u001b[1m0s\u001b[0m 3ms/step\n",
      "\u001b[1m63/63\u001b[0m \u001b[32m━━━━━━━━━━━━━━━━━━━━\u001b[0m\u001b[37m\u001b[0m \u001b[1m0s\u001b[0m 3ms/step\n",
      "\u001b[1m63/63\u001b[0m \u001b[32m━━━━━━━━━━━━━━━━━━━━\u001b[0m\u001b[37m\u001b[0m \u001b[1m0s\u001b[0m 3ms/step\n",
      "\u001b[1m63/63\u001b[0m \u001b[32m━━━━━━━━━━━━━━━━━━━━\u001b[0m\u001b[37m\u001b[0m \u001b[1m0s\u001b[0m 2ms/step\n",
      "Federated Accuracy: 0.088\n",
      "Federated learning iteration: 4\n",
      "\u001b[1m63/63\u001b[0m \u001b[32m━━━━━━━━━━━━━━━━━━━━\u001b[0m\u001b[37m\u001b[0m \u001b[1m0s\u001b[0m 3ms/step\n",
      "\u001b[1m63/63\u001b[0m \u001b[32m━━━━━━━━━━━━━━━━━━━━\u001b[0m\u001b[37m\u001b[0m \u001b[1m0s\u001b[0m 3ms/step\n",
      "\u001b[1m63/63\u001b[0m \u001b[32m━━━━━━━━━━━━━━━━━━━━\u001b[0m\u001b[37m\u001b[0m \u001b[1m0s\u001b[0m 3ms/step\n",
      "\u001b[1m63/63\u001b[0m \u001b[32m━━━━━━━━━━━━━━━━━━━━\u001b[0m\u001b[37m\u001b[0m \u001b[1m0s\u001b[0m 3ms/step\n",
      "\u001b[1m63/63\u001b[0m \u001b[32m━━━━━━━━━━━━━━━━━━━━\u001b[0m\u001b[37m\u001b[0m \u001b[1m0s\u001b[0m 3ms/step\n",
      "\u001b[1m63/63\u001b[0m \u001b[32m━━━━━━━━━━━━━━━━━━━━\u001b[0m\u001b[37m\u001b[0m \u001b[1m0s\u001b[0m 2ms/step\n",
      "Federated Accuracy: 0.086\n",
      "Federated learning iteration: 5\n",
      "\u001b[1m63/63\u001b[0m \u001b[32m━━━━━━━━━━━━━━━━━━━━\u001b[0m\u001b[37m\u001b[0m \u001b[1m0s\u001b[0m 3ms/step\n",
      "\u001b[1m63/63\u001b[0m \u001b[32m━━━━━━━━━━━━━━━━━━━━\u001b[0m\u001b[37m\u001b[0m \u001b[1m0s\u001b[0m 3ms/step\n",
      "\u001b[1m63/63\u001b[0m \u001b[32m━━━━━━━━━━━━━━━━━━━━\u001b[0m\u001b[37m\u001b[0m \u001b[1m0s\u001b[0m 3ms/step\n",
      "\u001b[1m63/63\u001b[0m \u001b[32m━━━━━━━━━━━━━━━━━━━━\u001b[0m\u001b[37m\u001b[0m \u001b[1m0s\u001b[0m 3ms/step\n",
      "\u001b[1m63/63\u001b[0m \u001b[32m━━━━━━━━━━━━━━━━━━━━\u001b[0m\u001b[37m\u001b[0m \u001b[1m0s\u001b[0m 3ms/step\n",
      "\u001b[1m63/63\u001b[0m \u001b[32m━━━━━━━━━━━━━━━━━━━━\u001b[0m\u001b[37m\u001b[0m \u001b[1m0s\u001b[0m 3ms/step\n",
      "Federated Accuracy: 0.090\n"
     ]
    }
   ],
   "source": [
    "federated_learning = federated(\n",
    "    NN(),\n",
    "    x_clients, \n",
    "    y_clients, \n",
    "    x_test, \n",
    "    y_test, \n",
    "    fl_iterations=epochs,\n",
    "    epochs_fl=epochs_fl\n",
    ")"
   ]
  },
  {
   "cell_type": "code",
   "execution_count": 27,
   "id": "415cbc71",
   "metadata": {},
   "outputs": [
    {
     "name": "stdout",
     "output_type": "stream",
     "text": [
      "[[-4648460.5   3697421.5  -4386023.   ...   713548.44 -2290995.5\n",
      "  -5620294.  ]\n",
      " [-4065347.2  -1439451.4   5080609.   ... -4017437.8   2122496.2\n",
      "  -1072391.1 ]\n",
      " [ 2471737.8   -771595.94  3434683.   ...  3524893.8  -4791258.\n",
      "  -1493425.2 ]\n",
      " [ 3274128.8   5771088.    -371401.38 ...  -794018.5  -2107110.2\n",
      "    570482.4 ]\n",
      " [  438160.88  4994144.    -943385.3  ...   -89957.95 -2473497.\n",
      "   -327283.16]]\n",
      "[[ 46484604.  -36974216.   43860232.  ...  -7135484.5  22909956.\n",
      "   56202940. ]\n",
      " [ 40653472.   14394514.  -50806088.  ...  40174376.  -21224962.\n",
      "   10723911. ]\n",
      " [-24717378.    7715959.5 -34346832.  ... -35248936.   47912580.\n",
      "   14934252. ]\n",
      " [-32741288.  -57710880.    3714013.8 ...   7940185.   21071102.\n",
      "   -5704824. ]\n",
      " [ -4381609.  -49941440.    9433853.  ...    899579.5  24734970.\n",
      "    3272831.5]]\n"
     ]
    }
   ],
   "source": [
    "test = federated_learning['weights'].copy()\n",
    "print(test[0][:5])\n",
    "# multiply all values of test by -1\n",
    "for i, array in enumerate(test):\n",
    "    np.multiply(array, -10, out=array)\n",
    "    test[i] = array\n",
    "print(test[0][:5])"
   ]
  },
  {
   "cell_type": "code",
   "execution_count": 2,
   "id": "d67c8b3d63b849b0",
   "metadata": {
    "collapsed": false
   },
   "outputs": [],
   "source": [
    "model = ...\n",
    "raise NotImplementedError"
   ]
  },
  {
   "cell_type": "code",
   "execution_count": 4,
   "id": "939d028dabb70e23",
   "metadata": {
    "collapsed": false
   },
   "outputs": [
    {
     "data": {
      "text/plain": [
       "{'message': 'Statut : en pleine forme !'}"
      ]
     },
     "execution_count": 4,
     "metadata": {},
     "output_type": "execute_result"
    }
   ],
   "source": [
    "import requests as rq\n",
    "\n",
    "URL = \"https://du-poison.challenges.404ctf.fr\"\n",
    "rq.get(URL + \"/healthcheck\").json()"
   ]
  },
  {
   "cell_type": "code",
   "execution_count": 25,
   "id": "36f41e01e352a919",
   "metadata": {
    "collapsed": false
   },
   "outputs": [
    {
     "data": {
      "text/plain": [
       "{'message': \"Raté ! Le score de l'apprentissage fédéré est de 0.9365. Il faut l'empoisonner pour qu'il passe en dessous de 0.5\"}"
      ]
     },
     "execution_count": 25,
     "metadata": {},
     "output_type": "execute_result"
    }
   ],
   "source": [
    "# d = weights_to_json(model.get_weights())\n",
    "d = weights_to_json(federated_learning['weights'])\n",
    "d = weights_to_json(test)\n",
    "rq.post(URL + \"/challenges/2\", json=d).json()"
   ]
  }
 ],
 "metadata": {
  "kernelspec": {
   "display_name": "Python 3",
   "language": "python",
   "name": "python3"
  },
  "language_info": {
   "codemirror_mode": {
    "name": "ipython",
    "version": 3
   },
   "file_extension": ".py",
   "mimetype": "text/x-python",
   "name": "python",
   "nbconvert_exporter": "python",
   "pygments_lexer": "ipython3",
   "version": "3.10.12"
  }
 },
 "nbformat": 4,
 "nbformat_minor": 5
}
