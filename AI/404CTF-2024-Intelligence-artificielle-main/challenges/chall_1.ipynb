{
 "cells": [
  {
   "cell_type": "code",
   "execution_count": 4,
   "id": "ec2c8b11",
   "metadata": {},
   "outputs": [],
   "source": [
    "import sys\n",
    "import os\n",
    "\n",
    "sys.path.insert(0, os.path.abspath('..'))"
   ]
  },
  {
   "cell_type": "code",
   "execution_count": 9,
   "id": "initial_id",
   "metadata": {
    "ExecuteTime": {
     "end_time": "2024-04-20T13:03:57.714721Z",
     "start_time": "2024-04-20T13:03:55.071438Z"
    },
    "collapsed": true
   },
   "outputs": [],
   "source": [
    "from fl.preprocessing import load_mnist, data_to_client\n",
    "from fl.model import NN\n",
    "from fl.utils import plot_train_and_test, weights_to_json\n",
    "from fl.federated_learning import federated"
   ]
  },
  {
   "cell_type": "markdown",
   "id": "f8e2b1ff8e348e77",
   "metadata": {
    "collapsed": false
   },
   "source": [
    "# Challenge 1 : Du poison [1/2]\n",
    "\n",
    "Ces deux challenges visent à présenter la technique de *federated learning*, ainsi que les potentiels dangers à prendre en compte.\n",
    "\n",
    "![du_poison.jpg](https://i.imgflip.com/8nfipd.jpg)\n",
    "\n",
    "*Cette suite de challenges est accompagnée d'un module python. Il est téléchargeable ici : https://github.com/Sckathach/404CTF-2024-Intelligence-artificielle.git, ou directement sur le CTFd.* \n",
    "\n",
    "## *Federated Learning*\n",
    "\n",
    "Parfois, au lieu de faire tout l'entraînement d'un coup depuis une unique base de donnée, l'on préfère entraîner **plusieurs versions du modèle** sur des données variées et potentiellement décentralisées. C'est le cas par exemple des algorithmes de recommandation qui vont s'entraîner directement sur les machines des utilisateurs, pour ensuite **s'agréger dans un serveur commun.**\n",
    "\n",
    "C'est le cas du *federated learning*, chaque client reçoit une version du modèle, continue l'entraînement avec ses données (possibilité de protéger les données avec par exemple du *differential privacy machine learning*), et envoie les poids qu'il a obtenu au serveur central. \n",
    "\n",
    "On va simuler une étape avec 5 clients. Le modèle de base est `weights/base_fl.weights.h5`.\n",
    "\n",
    "On commence d'abord par récupérer les données : "
   ]
  },
  {
   "cell_type": "code",
   "execution_count": 10,
   "id": "230f2fa10c61d992",
   "metadata": {
    "ExecuteTime": {
     "end_time": "2024-04-20T13:03:58.046884Z",
     "start_time": "2024-04-20T13:03:57.716114Z"
    },
    "collapsed": false
   },
   "outputs": [
    {
     "name": "stdout",
     "output_type": "stream",
     "text": [
      "Downloading data from https://storage.googleapis.com/tensorflow/tf-keras-datasets/mnist.npz\n",
      "\u001b[1m11490434/11490434\u001b[0m \u001b[32m━━━━━━━━━━━━━━━━━━━━\u001b[0m\u001b[37m\u001b[0m \u001b[1m1s\u001b[0m 0us/step\n"
     ]
    }
   ],
   "source": [
    "epochs = 5\n",
    "epochs_fl = 1\n",
    "nb_clients = 5\n",
    "\n",
    "x_train, y_train, x_test, y_test = load_mnist()\n",
    "x_clients, y_clients = data_to_client(x_train, y_train, nb_clients=nb_clients)"
   ]
  },
  {
   "cell_type": "markdown",
   "id": "fcc833fa368057d1",
   "metadata": {
    "collapsed": false
   },
   "source": [
    "Tout le processus de l'apprentissage fédéré est contenu dans la fonction `federated` : "
   ]
  },
  {
   "cell_type": "code",
   "execution_count": 13,
   "id": "f5344eda11205e90",
   "metadata": {
    "ExecuteTime": {
     "end_time": "2024-04-20T13:04:58.380919Z",
     "start_time": "2024-04-20T13:03:58.047686Z"
    },
    "collapsed": false
   },
   "outputs": [
    {
     "name": "stderr",
     "output_type": "stream",
     "text": [
      "/home/patate/.local/lib/python3.10/site-packages/keras/src/layers/core/dense.py:87: UserWarning: Do not pass an `input_shape`/`input_dim` argument to a layer. When using Sequential models, prefer using an `Input(shape)` object as the first layer in the model instead.\n",
      "  super().__init__(activity_regularizer=activity_regularizer, **kwargs)\n"
     ]
    },
    {
     "name": "stdout",
     "output_type": "stream",
     "text": [
      "Federated learning iteration: 1\n",
      "\u001b[1m63/63\u001b[0m \u001b[32m━━━━━━━━━━━━━━━━━━━━\u001b[0m\u001b[37m\u001b[0m \u001b[1m0s\u001b[0m 3ms/step\n",
      "\u001b[1m63/63\u001b[0m \u001b[32m━━━━━━━━━━━━━━━━━━━━\u001b[0m\u001b[37m\u001b[0m \u001b[1m0s\u001b[0m 3ms/step\n",
      "\u001b[1m63/63\u001b[0m \u001b[32m━━━━━━━━━━━━━━━━━━━━\u001b[0m\u001b[37m\u001b[0m \u001b[1m0s\u001b[0m 3ms/step\n",
      "\u001b[1m63/63\u001b[0m \u001b[32m━━━━━━━━━━━━━━━━━━━━\u001b[0m\u001b[37m\u001b[0m \u001b[1m0s\u001b[0m 3ms/step\n",
      "\u001b[1m63/63\u001b[0m \u001b[32m━━━━━━━━━━━━━━━━━━━━\u001b[0m\u001b[37m\u001b[0m \u001b[1m0s\u001b[0m 3ms/step\n",
      "\u001b[1m63/63\u001b[0m \u001b[32m━━━━━━━━━━━━━━━━━━━━\u001b[0m\u001b[37m\u001b[0m \u001b[1m0s\u001b[0m 2ms/step\n",
      "Federated Accuracy: 0.919\n",
      "Federated learning iteration: 2\n",
      "\u001b[1m63/63\u001b[0m \u001b[32m━━━━━━━━━━━━━━━━━━━━\u001b[0m\u001b[37m\u001b[0m \u001b[1m0s\u001b[0m 3ms/step\n",
      "\u001b[1m63/63\u001b[0m \u001b[32m━━━━━━━━━━━━━━━━━━━━\u001b[0m\u001b[37m\u001b[0m \u001b[1m0s\u001b[0m 3ms/step\n",
      "\u001b[1m63/63\u001b[0m \u001b[32m━━━━━━━━━━━━━━━━━━━━\u001b[0m\u001b[37m\u001b[0m \u001b[1m0s\u001b[0m 3ms/step\n",
      "\u001b[1m63/63\u001b[0m \u001b[32m━━━━━━━━━━━━━━━━━━━━\u001b[0m\u001b[37m\u001b[0m \u001b[1m0s\u001b[0m 3ms/step\n",
      "\u001b[1m63/63\u001b[0m \u001b[32m━━━━━━━━━━━━━━━━━━━━\u001b[0m\u001b[37m\u001b[0m \u001b[1m0s\u001b[0m 3ms/step\n",
      "\u001b[1m63/63\u001b[0m \u001b[32m━━━━━━━━━━━━━━━━━━━━\u001b[0m\u001b[37m\u001b[0m \u001b[1m0s\u001b[0m 2ms/step\n",
      "Federated Accuracy: 0.937\n",
      "Federated learning iteration: 3\n",
      "\u001b[1m63/63\u001b[0m \u001b[32m━━━━━━━━━━━━━━━━━━━━\u001b[0m\u001b[37m\u001b[0m \u001b[1m0s\u001b[0m 2ms/step\n",
      "\u001b[1m63/63\u001b[0m \u001b[32m━━━━━━━━━━━━━━━━━━━━\u001b[0m\u001b[37m\u001b[0m \u001b[1m0s\u001b[0m 3ms/step\n",
      "\u001b[1m63/63\u001b[0m \u001b[32m━━━━━━━━━━━━━━━━━━━━\u001b[0m\u001b[37m\u001b[0m \u001b[1m0s\u001b[0m 3ms/step\n",
      "\u001b[1m63/63\u001b[0m \u001b[32m━━━━━━━━━━━━━━━━━━━━\u001b[0m\u001b[37m\u001b[0m \u001b[1m0s\u001b[0m 3ms/step\n",
      "\u001b[1m63/63\u001b[0m \u001b[32m━━━━━━━━━━━━━━━━━━━━\u001b[0m\u001b[37m\u001b[0m \u001b[1m0s\u001b[0m 2ms/step\n",
      "\u001b[1m63/63\u001b[0m \u001b[32m━━━━━━━━━━━━━━━━━━━━\u001b[0m\u001b[37m\u001b[0m \u001b[1m0s\u001b[0m 2ms/step\n",
      "Federated Accuracy: 0.936\n",
      "Federated learning iteration: 4\n",
      "\u001b[1m63/63\u001b[0m \u001b[32m━━━━━━━━━━━━━━━━━━━━\u001b[0m\u001b[37m\u001b[0m \u001b[1m0s\u001b[0m 3ms/step\n",
      "\u001b[1m63/63\u001b[0m \u001b[32m━━━━━━━━━━━━━━━━━━━━\u001b[0m\u001b[37m\u001b[0m \u001b[1m0s\u001b[0m 3ms/step\n",
      "\u001b[1m63/63\u001b[0m \u001b[32m━━━━━━━━━━━━━━━━━━━━\u001b[0m\u001b[37m\u001b[0m \u001b[1m0s\u001b[0m 3ms/step\n",
      "\u001b[1m63/63\u001b[0m \u001b[32m━━━━━━━━━━━━━━━━━━━━\u001b[0m\u001b[37m\u001b[0m \u001b[1m0s\u001b[0m 3ms/step\n",
      "\u001b[1m63/63\u001b[0m \u001b[32m━━━━━━━━━━━━━━━━━━━━\u001b[0m\u001b[37m\u001b[0m \u001b[1m0s\u001b[0m 3ms/step\n",
      "\u001b[1m63/63\u001b[0m \u001b[32m━━━━━━━━━━━━━━━━━━━━\u001b[0m\u001b[37m\u001b[0m \u001b[1m0s\u001b[0m 2ms/step\n",
      "Federated Accuracy: 0.943\n",
      "Federated learning iteration: 5\n",
      "\u001b[1m63/63\u001b[0m \u001b[32m━━━━━━━━━━━━━━━━━━━━\u001b[0m\u001b[37m\u001b[0m \u001b[1m0s\u001b[0m 3ms/step\n",
      "\u001b[1m63/63\u001b[0m \u001b[32m━━━━━━━━━━━━━━━━━━━━\u001b[0m\u001b[37m\u001b[0m \u001b[1m0s\u001b[0m 3ms/step\n",
      "\u001b[1m63/63\u001b[0m \u001b[32m━━━━━━━━━━━━━━━━━━━━\u001b[0m\u001b[37m\u001b[0m \u001b[1m0s\u001b[0m 3ms/step\n",
      "\u001b[1m63/63\u001b[0m \u001b[32m━━━━━━━━━━━━━━━━━━━━\u001b[0m\u001b[37m\u001b[0m \u001b[1m0s\u001b[0m 3ms/step\n",
      "\u001b[1m63/63\u001b[0m \u001b[32m━━━━━━━━━━━━━━━━━━━━\u001b[0m\u001b[37m\u001b[0m \u001b[1m0s\u001b[0m 3ms/step\n",
      "\u001b[1m63/63\u001b[0m \u001b[32m━━━━━━━━━━━━━━━━━━━━\u001b[0m\u001b[37m\u001b[0m \u001b[1m0s\u001b[0m 2ms/step\n",
      "Federated Accuracy: 0.959\n"
     ]
    }
   ],
   "source": [
    "federated_learning = federated(\n",
    "    NN(),\n",
    "    x_clients, \n",
    "    y_clients, \n",
    "    x_test, \n",
    "    y_test, \n",
    "    fl_iterations=epochs,\n",
    "    epochs_fl=epochs_fl\n",
    ")"
   ]
  },
  {
   "cell_type": "markdown",
   "id": "9981a61b9058bca3",
   "metadata": {
    "collapsed": false
   },
   "source": [
    "On peut ensuite afficher les résultats :"
   ]
  },
  {
   "cell_type": "code",
   "execution_count": 14,
   "id": "69e9d24362b051d7",
   "metadata": {
    "ExecuteTime": {
     "end_time": "2024-04-20T13:06:13.804225Z",
     "start_time": "2024-04-20T13:06:13.641289Z"
    },
    "collapsed": false
   },
   "outputs": [
    {
     "data": {
      "image/png": "[encoded data removed]",
      "text/plain": [
       "<Figure size 1000x1000 with 1 Axes>"
      ]
     },
     "metadata": {},
     "output_type": "display_data"
    }
   ],
   "source": [
    "history = federated_learning[\"history_acc\"]\n",
    "plot_train_and_test([history], [\"FL\"], epochs)"
   ]
  },
  {
   "cell_type": "markdown",
   "id": "e3f112c0dfe1d6d5",
   "metadata": {
    "collapsed": false
   },
   "source": [
    "## À vous de jouer !\n",
    "\n",
    "Vous représentez **un client sur 5**, trouvez un moyen d'empoisonner le modèle pour faire descendre la précision au plus bas ! "
   ]
  },
  {
   "cell_type": "code",
   "execution_count": 19,
   "id": "a2fd7ac2",
   "metadata": {},
   "outputs": [],
   "source": [
    "import numpy as np"
   ]
  },
  {
   "cell_type": "code",
   "execution_count": 65,
   "id": "c81e4196",
   "metadata": {},
   "outputs": [
    {
     "name": "stdout",
     "output_type": "stream",
     "text": [
      "[[-5.7940633e+25  2.2917038e+25  1.1724991e+25 ...  4.7931494e+25\n",
      "  -5.0585330e+25  4.7384751e+25]\n",
      " [ 1.9929890e+25  2.4500216e+25  2.1387752e+25 ...  3.2452287e+25\n",
      "  -1.8330475e+24 -4.1286553e+25]\n",
      " [-6.4381933e+24  2.5936676e+25  2.3952820e+25 ...  6.9964672e+22\n",
      "  -5.8901313e+24 -2.7019237e+25]\n",
      " [ 2.8864529e+25 -4.4279666e+25  5.2750245e+25 ...  1.6132433e+25\n",
      "  -4.0156906e+25  5.1164604e+25]\n",
      " [ 1.2383086e+25 -1.6115966e+25 -4.5588001e+25 ... -3.2461775e+25\n",
      "  -8.2513122e+24 -2.7363780e+25]]\n",
      "[[ 5.7940633e+26 -2.2917038e+26 -1.1724991e+26 ... -4.7931496e+26\n",
      "   5.0585329e+26 -4.7384749e+26]\n",
      " [-1.9929890e+26 -2.4500217e+26 -2.1387753e+26 ... -3.2452287e+26\n",
      "   1.8330474e+25  4.1286551e+26]\n",
      " [ 6.4381931e+25 -2.5936676e+26 -2.3952820e+26 ... -6.9964674e+23\n",
      "   5.8901312e+25  2.7019238e+26]\n",
      " [-2.8864528e+26  4.4279668e+26 -5.2750243e+26 ... -1.6132432e+26\n",
      "   4.0156905e+26 -5.1164605e+26]\n",
      " [-1.2383086e+26  1.6115965e+26  4.5587999e+26 ...  3.2461776e+26\n",
      "   8.2513126e+25  2.7363780e+26]]\n"
     ]
    }
   ],
   "source": [
    "test = federated_learning['weights']\n",
    "print(test[0][:5])\n",
    "# multiply all values of test by -1\n",
    "for i, array in enumerate(test):\n",
    "    np.multiply(array, -10, out=array)\n",
    "    test[i] = array\n",
    "print(test[0][:5])"
   ]
  },
  {
   "cell_type": "code",
   "execution_count": 5,
   "id": "c6fb649ccd0caefe",
   "metadata": {
    "collapsed": false
   },
   "outputs": [],
   "source": [
    "model = ...\n",
    "raise NotImplementedError"
   ]
  },
  {
   "cell_type": "markdown",
   "id": "92042e82958183f9",
   "metadata": {
    "collapsed": false
   },
   "source": [
    "## Récupération du drapeau \n",
    "\n",
    "Pour récupérer le drapeau, il faut jouer le jeu et envoyer ses poids au serveur qui s'occupera de l'aggregation des différents clients. Dans notre cas, le serveur se trouve à l'adresse https://du-poison.challenges.404ctf.fr"
   ]
  },
  {
   "cell_type": "code",
   "execution_count": 11,
   "id": "b8cc3d3ed1ecc1d0",
   "metadata": {
    "collapsed": false
   },
   "outputs": [
    {
     "data": {
      "text/plain": [
       "{'message': 'Statut : en pleine forme !'}"
      ]
     },
     "execution_count": 11,
     "metadata": {},
     "output_type": "execute_result"
    }
   ],
   "source": [
    "import requests as rq\n",
    "\n",
    "URL = \"https://du-poison.challenges.404ctf.fr\"\n",
    "rq.get(URL + \"/healthcheck\").json()"
   ]
  },
  {
   "cell_type": "code",
   "execution_count": 66,
   "id": "b9a9d7bf485e5972",
   "metadata": {
    "collapsed": false
   },
   "outputs": [
    {
     "data": {
      "text/plain": [
       "{'message': 'Bravo ! Voici le drapeau : 404CTF{0h___dU_P01sON}'}"
      ]
     },
     "execution_count": 66,
     "metadata": {},
     "output_type": "execute_result"
    }
   ],
   "source": [
    "d = weights_to_json(test) \n",
    "rq.post(URL + \"/challenges/1\", json=d).json()"
   ]
  }
 ],
 "metadata": {
  "kernelspec": {
   "display_name": "Python 3",
   "language": "python",
   "name": "python3"
  },
  "language_info": {
   "codemirror_mode": {
    "name": "ipython",
    "version": 3
   },
   "file_extension": ".py",
   "mimetype": "text/x-python",
   "name": "python",
   "nbconvert_exporter": "python",
   "pygments_lexer": "ipython3",
   "version": "3.10.12"
  }
 },
 "nbformat": 4,
 "nbformat_minor": 5
}
