{
 "cells": [
  {
   "cell_type": "code",
   "execution_count": 7,
   "metadata": {},
   "outputs": [],
   "source": [
    "text = '# congratulations! this is a strike :-) you should now see the flag printed ... #'\n",
    "text_list = list(text)\n",
    "CHARSET=\"abcdefghijklmnopqrstuvwxyz!# $:-().\""
   ]
  },
  {
   "cell_type": "code",
   "execution_count": 17,
   "metadata": {},
   "outputs": [
    {
     "name": "stdout",
     "output_type": "stream",
     "text": [
      "81 81 81\n"
     ]
    }
   ],
   "source": [
    "first_list = []\n",
    "second_list = []\n",
    "\n",
    "for i in range(0, len(text_list)* 2, 2):\n",
    "    j = i // 2\n",
    "    ref = text[j]\n",
    "\n",
    "\n",
    "    f1_result = (CHARSET.index(ref) - i) % 35\n",
    "\n",
    "\n",
    "    v5 = f1_result // 16\n",
    "    v4 = f1_result % 16\n",
    "\n",
    "    v5 = str(v5) if v5 < 10 else chr(ord('a') + v5 - 10)\n",
    "    v4 = str(v4) if v4 < 10 else chr(ord('a') + v4 - 10)\n",
    "    first_list.append(v5)\n",
    "    second_list.append(v4)\n",
    "   \n",
    "    \n",
    "\n",
    "print(len(text_list), len(first_list), len(second_list))\n"
   ]
  },
  {
   "cell_type": "code",
   "execution_count": 21,
   "metadata": {},
   "outputs": [
    {
     "name": "stdout",
     "output_type": "stream",
     "text": [
      "1b1a2108051f051503021a0d1e111512151b1b10020109111e030b10071e1d190e0e061c1c1b1b140e02060c00161b1f140a21100f15190d201e11061b160913170a0e221313080b0f211e121614120a07\n"
     ]
    }
   ],
   "source": [
    "result = []\n",
    "for a, b in zip(first_list, second_list):\n",
    "    result.append(a)\n",
    "    result.append(b)\n",
    "\n",
    "print(\"\".join(result))"
   ]
  },
  {
   "cell_type": "code",
   "execution_count": null,
   "metadata": {},
   "outputs": [],
   "source": []
  }
 ],
 "metadata": {
  "kernelspec": {
   "display_name": "Python 3",
   "language": "python",
   "name": "python3"
  },
  "language_info": {
   "codemirror_mode": {
    "name": "ipython",
    "version": 3
   },
   "file_extension": ".py",
   "mimetype": "text/x-python",
   "name": "python",
   "nbconvert_exporter": "python",
   "pygments_lexer": "ipython3",
   "version": "3.10.12"
  }
 },
 "nbformat": 4,
 "nbformat_minor": 2
}
